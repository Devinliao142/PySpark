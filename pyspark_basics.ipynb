{
 "cells": [
  {
   "cell_type": "code",
   "execution_count": 1,
   "metadata": {},
   "outputs": [],
   "source": [
    "import pyspark.sql.functions as F\n",
    "from pyspark.sql.types import *\n",
    "import pandas as pd"
   ]
  },
  {
   "cell_type": "markdown",
   "metadata": {},
   "source": [
    "- I/O to HDFS"
   ]
  },
  {
   "cell_type": "code",
   "execution_count": 3,
   "metadata": {},
   "outputs": [],
   "source": [
    "flight = spark.read.csv('/user/peizhou.liao/giraph/data/Airports2.csv', sep=',', header=True)\n",
    "\n",
    "flight.write.save('/user/peizhou.liao/giraph/data/Airports_new.csv', format='csv')"
   ]
  },
  {
   "cell_type": "code",
   "execution_count": null,
   "metadata": {},
   "outputs": [],
   "source": [
    "# display some rows\n",
    "flight.show(5)  # flight.show(5, False) full display"
   ]
  },
  {
   "cell_type": "markdown",
   "metadata": {},
   "source": [
    "- Data filtering"
   ]
  },
  {
   "cell_type": "code",
   "execution_count": null,
   "metadata": {},
   "outputs": [],
   "source": [
    "# display a sinlge column\n",
    "flight.select('Origin_city').show()\n",
    "\n",
    "# filter rows\n",
    "flight.where(flight['Origin_airport']=='ATL')\n",
    "flight.where(F.col('Origin_airport').isNotNull())\n",
    "\n",
    "# filter rows and select some columns\n",
    "flight.where(flight['Origin_airport']=='ATL').select(['Origin_city', 'Destination_city'])\n",
    "\n",
    "# concatenate dataframe\n",
    "flight_dup = flight.union(flight)\n",
    "\n",
    "# keep distinct rows\n",
    "flight_uniq = fligh_dup.distinct() \n",
    "\n",
    "# sort dataframe by column\n",
    "flight.sort(F.col('Seats').desc()).show(n=10)\n",
    "\n",
    "# groupby and aggregate\n",
    "flight.groupBy('Origin_airport').agg(F.sum('Seats'), F.countDistinct('Destination_airport'))"
   ]
  },
  {
   "cell_type": "markdown",
   "metadata": {},
   "source": [
    "- Statistical analysis"
   ]
  },
  {
   "cell_type": "code",
   "execution_count": null,
   "metadata": {},
   "outputs": [],
   "source": [
    "# sample 10% of rows without replacement\n",
    "flight_sample = flight.sample(False, 0.1, seed=11)  # flight.sample(True, 0.1, seed=11) with replacement\n",
    "\n",
    "# count frequency\n",
    "flight.cube('Origin_airport').count()\n",
    "\n",
    "# compute correlation\n",
    "flight.stat.corr('Passengers', 'Seats')\n",
    "\n"
   ]
  }
 ],
 "metadata": {
  "kernelspec": {
   "display_name": "Python 2",
   "language": "python",
   "name": "python2"
  },
  "language_info": {
   "codemirror_mode": {
    "name": "ipython",
    "version": 2
   },
   "file_extension": ".py",
   "mimetype": "text/x-python",
   "name": "python",
   "nbconvert_exporter": "python",
   "pygments_lexer": "ipython2",
   "version": "2.7.14"
  }
 },
 "nbformat": 4,
 "nbformat_minor": 2
}
